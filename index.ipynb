{
  "cells": [
    {
      "cell_type": "code",
      "execution_count": 3,
      "metadata": {
        "colab": {
          "base_uri": "https://localhost:8080/"
        },
        "id": "ykbfYb-Vn4NY",
        "outputId": "584ef79a-16c5-407e-ec32-07cef34f4a2e"
      },
      "outputs": [
        {
          "name": "stdout",
          "output_type": "stream",
          "text": [
            "Collecting pdfminer.six\n",
            "  Downloading pdfminer.six-20231228-py3-none-any.whl (5.6 MB)\n",
            "\u001b[2K     \u001b[90m━━━━━━━━━━━━━━━━━━━━━━━━━━━━━━━━━━━━━━━━\u001b[0m \u001b[32m5.6/5.6 MB\u001b[0m \u001b[31m15.3 MB/s\u001b[0m eta \u001b[36m0:00:00\u001b[0m\n",
            "\u001b[?25hRequirement already satisfied: charset-normalizer>=2.0.0 in /usr/local/lib/python3.10/dist-packages (from pdfminer.six) (3.3.2)\n",
            "Requirement already satisfied: cryptography>=36.0.0 in /usr/local/lib/python3.10/dist-packages (from pdfminer.six) (42.0.5)\n",
            "Requirement already satisfied: cffi>=1.12 in /usr/local/lib/python3.10/dist-packages (from cryptography>=36.0.0->pdfminer.six) (1.16.0)\n",
            "Requirement already satisfied: pycparser in /usr/local/lib/python3.10/dist-packages (from cffi>=1.12->cryptography>=36.0.0->pdfminer.six) (2.21)\n",
            "Installing collected packages: pdfminer.six\n",
            "Successfully installed pdfminer.six-20231228\n"
          ]
        }
      ],
      "source": [
        "!pip install pdfminer.six"
      ]
    },
    {
      "cell_type": "code",
      "execution_count": 4,
      "metadata": {
        "colab": {
          "base_uri": "https://localhost:8080/"
        },
        "id": "A6K9lBwvoZbp",
        "outputId": "6ae3f703-ed7b-4b07-c1d7-933ea8aafb29"
      },
      "outputs": [
        {
          "name": "stdout",
          "output_type": "stream",
          "text": [
            "Collecting tabula-py\n",
            "  Downloading tabula_py-2.9.0-py3-none-any.whl (12.0 MB)\n",
            "\u001b[2K     \u001b[90m━━━━━━━━━━━━━━━━━━━━━━━━━━━━━━━━━━━━━━━━\u001b[0m \u001b[32m12.0/12.0 MB\u001b[0m \u001b[31m25.7 MB/s\u001b[0m eta \u001b[36m0:00:00\u001b[0m\n",
            "\u001b[?25hRequirement already satisfied: pandas>=0.25.3 in /usr/local/lib/python3.10/dist-packages (from tabula-py) (1.5.3)\n",
            "Requirement already satisfied: numpy in /usr/local/lib/python3.10/dist-packages (from tabula-py) (1.25.2)\n",
            "Requirement already satisfied: distro in /usr/lib/python3/dist-packages (from tabula-py) (1.7.0)\n",
            "Requirement already satisfied: python-dateutil>=2.8.1 in /usr/local/lib/python3.10/dist-packages (from pandas>=0.25.3->tabula-py) (2.8.2)\n",
            "Requirement already satisfied: pytz>=2020.1 in /usr/local/lib/python3.10/dist-packages (from pandas>=0.25.3->tabula-py) (2023.4)\n",
            "Requirement already satisfied: six>=1.5 in /usr/local/lib/python3.10/dist-packages (from python-dateutil>=2.8.1->pandas>=0.25.3->tabula-py) (1.16.0)\n",
            "Installing collected packages: tabula-py\n",
            "Successfully installed tabula-py-2.9.0\n"
          ]
        }
      ],
      "source": [
        "!pip install tabula-py"
      ]
    },
    {
      "cell_type": "code",
      "execution_count": 9,
      "metadata": {
        "colab": {
          "base_uri": "https://localhost:8080/"
        },
        "id": "WOeM89AeIPcG",
        "outputId": "eed37bd4-6819-4b72-f12f-748db723628d"
      },
      "outputs": [
        {
          "name": "stdout",
          "output_type": "stream",
          "text": [
            "Collecting xlsxwriter\n",
            "  Downloading XlsxWriter-3.2.0-py3-none-any.whl (159 kB)\n",
            "\u001b[?25l     \u001b[90m━━━━━━━━━━━━━━━━━━━━━━━━━━━━━━━━━━━━━━━━\u001b[0m \u001b[32m0.0/159.9 kB\u001b[0m \u001b[31m?\u001b[0m eta \u001b[36m-:--:--\u001b[0m\r\u001b[2K     \u001b[91m━━━━━━━━━━━━━━━━━━━━━━━━━━━━━━━━━━━━━━\u001b[0m\u001b[90m╺\u001b[0m\u001b[90m━\u001b[0m \u001b[32m153.6/159.9 kB\u001b[0m \u001b[31m4.7 MB/s\u001b[0m eta \u001b[36m0:00:01\u001b[0m\r\u001b[2K     \u001b[90m━━━━━━━━━━━━━━━━━━━━━━━━━━━━━━━━━━━━━━━━\u001b[0m \u001b[32m159.9/159.9 kB\u001b[0m \u001b[31m3.9 MB/s\u001b[0m eta \u001b[36m0:00:00\u001b[0m\n",
            "\u001b[?25hInstalling collected packages: xlsxwriter\n",
            "Successfully installed xlsxwriter-3.2.0\n"
          ]
        }
      ],
      "source": [
        "!pip install xlsxwriter"
      ]
    },
    {
      "cell_type": "markdown",
      "metadata": {
        "id": "jwLLiXB0XOtC"
      },
      "source": [
        "# Work"
      ]
    },
    {
      "cell_type": "code",
      "execution_count": 17,
      "metadata": {
        "id": "8BUv1V4zJCe1"
      },
      "outputs": [],
      "source": [
        "from pdfminer.high_level import extract_text\n",
        "import tabula\n",
        "\n",
        "def extract_text_by_page(pdf_path):\n",
        "    # Using extract_text from pdfminer.high_level to extract text page by page\n",
        "    return [extract_text(pdf_path, page_numbers=[i]) for i in range(1, count_pages(pdf_path) + 1)]\n",
        "\n",
        "def count_pages(pdf_path):\n",
        "    # Use pdfminer to count the number of pages in the PDF\n",
        "    from pdfminer.pdfpage import PDFPage\n",
        "    with open(pdf_path, 'rb') as fh:\n",
        "        return len(list(PDFPage.get_pages(fh)))\n",
        "\n",
        "def find_pages_with_exact_text(pdf_path, search_texts):\n",
        "    pages_with_exact_text = []\n",
        "    for i, page_text in enumerate(extract_text_by_page(pdf_path), start=1):\n",
        "        for search_text in search_texts:\n",
        "          if search_text in page_text:  # Search for the exact phrase\n",
        "            pages_with_exact_text.append(i)\n",
        "    return pages_with_exact_text\n",
        "\n",
        "pdf_path = '/content/RLI.pdf'  # Update this path to your PDF file\n",
        "search_texts = ['Male Non-Smoker','Female Non-Smoker', 'Male Smoker', 'Female Smoker']  # This is the exact phrase you're looking for\n",
        "\n",
        "# Find pages containing the exact phrase\n",
        "pages_with_exact_text = find_pages_with_exact_text(pdf_path, search_texts)\n",
        "\n"
      ]
    },
    {
      "cell_type": "code",
      "execution_count": 18,
      "metadata": {
        "colab": {
          "base_uri": "https://localhost:8080/"
        },
        "id": "r7EOKxqNKHzE",
        "outputId": "50e0e3dc-c82b-415b-b53f-2e0000c8f614"
      },
      "outputs": [
        {
          "data": {
            "text/plain": [
              "[61, 62, 63, 64]"
            ]
          },
          "execution_count": 18,
          "metadata": {},
          "output_type": "execute_result"
        }
      ],
      "source": [
        "pages_with_exact_text"
      ]
    },
    {
      "cell_type": "code",
      "execution_count": 19,
      "metadata": {
        "colab": {
          "base_uri": "https://localhost:8080/"
        },
        "id": "_yn5Cd8QWi0A",
        "outputId": "bb4f177c-797f-4145-d300-b03b14f48db6"
      },
      "outputs": [
        {
          "name": "stderr",
          "output_type": "stream",
          "text": [
            "WARNING:tabula.backend:Got stderr: Mar 14, 2024 1:39:28 PM org.apache.pdfbox.pdmodel.font.PDTrueTypeFont <init>\n",
            "WARNING: Using fallback font 'LiberationSans' for 'TimesNewRomanPSMT'\n",
            "Mar 14, 2024 1:39:29 PM org.apache.pdfbox.pdmodel.font.PDTrueTypeFont <init>\n",
            "WARNING: Using fallback font 'LiberationSans-Bold' for 'TimesNewRomanPS-BoldMT'\n",
            "Mar 14, 2024 1:39:31 PM org.apache.pdfbox.pdmodel.font.PDTrueTypeFont <init>\n",
            "WARNING: Using fallback font 'LiberationSans' for 'TimesNewRomanPSMT'\n",
            "Mar 14, 2024 1:39:31 PM org.apache.pdfbox.pdmodel.font.PDTrueTypeFont <init>\n",
            "WARNING: Using fallback font 'LiberationSans-Bold' for 'TimesNewRomanPS-BoldMT'\n",
            "\n",
            "WARNING:tabula.backend:Got stderr: Mar 14, 2024 1:39:34 PM org.apache.pdfbox.pdmodel.font.PDTrueTypeFont <init>\n",
            "WARNING: Using fallback font 'LiberationSans' for 'TimesNewRomanPSMT'\n",
            "Mar 14, 2024 1:39:34 PM org.apache.pdfbox.pdmodel.font.PDTrueTypeFont <init>\n",
            "WARNING: Using fallback font 'LiberationSans-Bold' for 'TimesNewRomanPS-BoldMT'\n",
            "Mar 14, 2024 1:39:38 PM org.apache.pdfbox.pdmodel.font.PDTrueTypeFont <init>\n",
            "WARNING: Using fallback font 'LiberationSans' for 'TimesNewRomanPSMT'\n",
            "Mar 14, 2024 1:39:38 PM org.apache.pdfbox.pdmodel.font.PDTrueTypeFont <init>\n",
            "WARNING: Using fallback font 'LiberationSans-Bold' for 'TimesNewRomanPS-BoldMT'\n",
            "\n",
            "WARNING:tabula.backend:Got stderr: Mar 14, 2024 1:39:40 PM org.apache.pdfbox.pdmodel.font.PDTrueTypeFont <init>\n",
            "WARNING: Using fallback font 'LiberationSans' for 'TimesNewRomanPSMT'\n",
            "Mar 14, 2024 1:39:40 PM org.apache.pdfbox.pdmodel.font.PDTrueTypeFont <init>\n",
            "WARNING: Using fallback font 'LiberationSans-Bold' for 'TimesNewRomanPS-BoldMT'\n",
            "Mar 14, 2024 1:39:43 PM org.apache.pdfbox.pdmodel.font.PDTrueTypeFont <init>\n",
            "WARNING: Using fallback font 'LiberationSans' for 'TimesNewRomanPSMT'\n",
            "Mar 14, 2024 1:39:43 PM org.apache.pdfbox.pdmodel.font.PDTrueTypeFont <init>\n",
            "WARNING: Using fallback font 'LiberationSans-Bold' for 'TimesNewRomanPS-BoldMT'\n",
            "\n",
            "WARNING:tabula.backend:Got stderr: Mar 14, 2024 1:39:45 PM org.apache.pdfbox.pdmodel.font.PDTrueTypeFont <init>\n",
            "WARNING: Using fallback font 'LiberationSans' for 'TimesNewRomanPSMT'\n",
            "Mar 14, 2024 1:39:46 PM org.apache.pdfbox.pdmodel.font.PDTrueTypeFont <init>\n",
            "WARNING: Using fallback font 'LiberationSans-Bold' for 'TimesNewRomanPS-BoldMT'\n",
            "Mar 14, 2024 1:39:49 PM org.apache.pdfbox.pdmodel.font.PDTrueTypeFont <init>\n",
            "WARNING: Using fallback font 'LiberationSans' for 'TimesNewRomanPSMT'\n",
            "Mar 14, 2024 1:39:49 PM org.apache.pdfbox.pdmodel.font.PDTrueTypeFont <init>\n",
            "WARNING: Using fallback font 'LiberationSans-Bold' for 'TimesNewRomanPS-BoldMT'\n",
            "\n"
          ]
        }
      ],
      "source": [
        "import pandas as pd\n",
        "all_dfs = []\n",
        "\n",
        "for i in range(len(pages_with_exact_text)):\n",
        "    com_df = pd.DataFrame()\n",
        "    # Extract tables from the current page\n",
        "    tables = tabula.read_pdf(pdf_path, pages=pages_with_exact_text[i]+1, multiple_tables=True)\n",
        "    if len(tables)>1:\n",
        "      for table in  tables:\n",
        "        df1 = table\n",
        "        new_headers = ['Issue age'] + [str(i) for i in range(1, len(df1.columns)-1)] + ['Ultimate']\n",
        "        new_headers = new_headers[:len(df1.columns)]  # Limit to the actual number of columns\n",
        "        original_first_row = df1.columns\n",
        "        df1.columns = new_headers\n",
        "        new_row = pd.DataFrame([original_first_row], columns=new_headers)\n",
        "        new_row['Issue age'].iloc[0] = float(df1['Issue age'].iloc[0])\n",
        "        df = pd.concat([new_row, df1], ignore_index=True)\n",
        "        com_df = pd.concat([com_df, df], ignore_index=True)\n",
        "      df = com_df\n",
        "    else:\n",
        "      df1 = tables[0]\n",
        "\n",
        "      new_headers = ['Issue age'] + [str(i) for i in range(1, len(df1.columns)-1)] + ['Ultimate']\n",
        "      new_headers = new_headers[:len(df1.columns)]  # Limit to the actual number of columns\n",
        "      original_first_row = df1.columns\n",
        "      df1.columns = new_headers\n",
        "      new_row = pd.DataFrame([original_first_row], columns=new_headers)\n",
        "      new_row['Issue age'].iloc[0] = float(df['Issue age'].iloc[0])\n",
        "      df = pd.concat([new_row, df1], ignore_index=True)\n",
        "    all_dfs.append(df)"
      ]
    },
    {
      "cell_type": "code",
      "execution_count": 20,
      "metadata": {
        "id": "SzhCIBgbLgC5"
      },
      "outputs": [],
      "source": [
        "filename = 'TableData.xlsx'\n",
        "with pd.ExcelWriter(filename, engine='xlsxwriter') as writer:\n",
        "    # Write each DataFrame to a different sheet\n",
        "    for i in range(len(all_dfs)):\n",
        "      all_dfs[i].to_excel(writer, sheet_name=search_texts[i], index=False)"
      ]
    },
    {
      "cell_type": "code",
      "execution_count": null,
      "metadata": {
        "id": "2IomeIMwL8tn"
      },
      "outputs": [],
      "source": []
    }
  ],
  "metadata": {
    "colab": {
      "provenance": []
    },
    "kernelspec": {
      "display_name": "Python 3 (ipykernel)",
      "language": "python",
      "name": "python3"
    },
    "language_info": {
      "codemirror_mode": {
        "name": "ipython",
        "version": 3
      },
      "file_extension": ".py",
      "mimetype": "text/x-python",
      "name": "python",
      "nbconvert_exporter": "python",
      "pygments_lexer": "ipython3",
      "version": "3.9.7"
    }
  },
  "nbformat": 4,
  "nbformat_minor": 0
}
